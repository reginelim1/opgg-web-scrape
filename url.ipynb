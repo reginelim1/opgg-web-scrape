region = input('Enter region ')
sn = input("Summoner's Name ")
url = f"https://www.op.gg/summoners/{region}/{sn}"
